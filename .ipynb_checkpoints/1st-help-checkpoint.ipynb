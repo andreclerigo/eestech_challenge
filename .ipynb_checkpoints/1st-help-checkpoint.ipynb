{
 "cells": [
  {
   "cell_type": "markdown",
   "id": "3b173b77",
   "metadata": {
    "papermill": {
     "duration": 0.01328,
     "end_time": "2022-03-16T20:41:11.945534",
     "exception": false,
     "start_time": "2022-03-16T20:41:11.932254",
     "status": "completed"
    },
    "tags": []
   },
   "source": [
    "## 1. Useful functions to use in order to load the training data and spliting them into training/validition parts"
   ]
  },
  {
   "cell_type": "code",
   "execution_count": 1,
   "id": "1a52759d",
   "metadata": {
    "execution": {
     "iopub.execute_input": "2022-03-16T20:41:11.976765Z",
     "iopub.status.busy": "2022-03-16T20:41:11.976239Z",
     "iopub.status.idle": "2022-03-16T20:41:43.111982Z",
     "shell.execute_reply": "2022-03-16T20:41:43.112530Z",
     "shell.execute_reply.started": "2022-03-16T20:16:09.142303Z"
    },
    "papermill": {
     "duration": 31.158075,
     "end_time": "2022-03-16T20:41:43.112806",
     "exception": false,
     "start_time": "2022-03-16T20:41:11.954731",
     "status": "completed"
    },
    "tags": []
   },
   "outputs": [
    {
     "name": "stdout",
     "output_type": "stream",
     "text": [
      "Found 40000 files belonging to 8 classes.\n",
      "Using 32000 files for training.\n"
     ]
    },
    {
     "name": "stderr",
     "output_type": "stream",
     "text": [
      "2022-03-16 20:41:34.680508: I tensorflow/core/common_runtime/process_util.cc:146] Creating new thread pool with default inter op setting: 2. Tune using inter_op_parallelism_threads for best performance.\n"
     ]
    },
    {
     "name": "stdout",
     "output_type": "stream",
     "text": [
      "Found 40000 files belonging to 8 classes.\n",
      "Using 8000 files for validation.\n"
     ]
    }
   ],
   "source": [
    "import tensorflow as tf\n",
    "data_dir = '/kaggle/input/eestecchallenge/dataset/dataset/'\n",
    "batch_size =100\n",
    "train_ds = tf.keras.utils.image_dataset_from_directory(\n",
    "  data_dir,\n",
    "  validation_split=0.2,\n",
    "  subset=\"training\",\n",
    "  seed=123,\n",
    "  image_size=(32, 32),\n",
    "  batch_size=batch_size)\n",
    "\n",
    "val_ds = tf.keras.utils.image_dataset_from_directory(\n",
    "  data_dir,\n",
    "  validation_split=0.2,\n",
    "  subset=\"validation\",\n",
    "  seed=123,\n",
    "  image_size=(32, 32),\n",
    "  batch_size=batch_size)\n"
   ]
  },
  {
   "cell_type": "markdown",
   "id": "bd741032",
   "metadata": {
    "papermill": {
     "duration": 0.013425,
     "end_time": "2022-03-16T20:41:43.139829",
     "exception": false,
     "start_time": "2022-03-16T20:41:43.126404",
     "status": "completed"
    },
    "tags": []
   },
   "source": [
    "## 2. Here you should define the architecture of your model"
   ]
  },
  {
   "cell_type": "code",
   "execution_count": null,
   "id": "bf2b7fec",
   "metadata": {
    "papermill": {
     "duration": 0.013683,
     "end_time": "2022-03-16T20:41:43.167170",
     "exception": false,
     "start_time": "2022-03-16T20:41:43.153487",
     "status": "completed"
    },
    "tags": []
   },
   "outputs": [],
   "source": []
  },
  {
   "cell_type": "markdown",
   "id": "8fd3c602",
   "metadata": {
    "papermill": {
     "duration": 0.013539,
     "end_time": "2022-03-16T20:41:43.194393",
     "exception": false,
     "start_time": "2022-03-16T20:41:43.180854",
     "status": "completed"
    },
    "tags": []
   },
   "source": [
    "## 3. Define Loss function and metrics for the model evaluation as well as the type of optimizer for the model"
   ]
  },
  {
   "cell_type": "code",
   "execution_count": null,
   "id": "d69158ca",
   "metadata": {
    "execution": {
     "iopub.execute_input": "2022-03-16T19:34:18.170583Z",
     "iopub.status.busy": "2022-03-16T19:34:18.170092Z",
     "iopub.status.idle": "2022-03-16T19:34:18.188646Z",
     "shell.execute_reply": "2022-03-16T19:34:18.187981Z",
     "shell.execute_reply.started": "2022-03-16T19:34:18.170548Z"
    },
    "papermill": {
     "duration": 0.013381,
     "end_time": "2022-03-16T20:41:43.221619",
     "exception": false,
     "start_time": "2022-03-16T20:41:43.208238",
     "status": "completed"
    },
    "tags": []
   },
   "outputs": [],
   "source": []
  },
  {
   "cell_type": "markdown",
   "id": "e27c7818",
   "metadata": {
    "papermill": {
     "duration": 0.013325,
     "end_time": "2022-03-16T20:41:43.248789",
     "exception": false,
     "start_time": "2022-03-16T20:41:43.235464",
     "status": "completed"
    },
    "tags": []
   },
   "source": [
    "## 4. Train your model "
   ]
  },
  {
   "cell_type": "code",
   "execution_count": null,
   "id": "36f64955",
   "metadata": {
    "execution": {
     "iopub.execute_input": "2022-03-16T19:34:18.190242Z",
     "iopub.status.busy": "2022-03-16T19:34:18.189993Z",
     "iopub.status.idle": "2022-03-16T19:50:28.500946Z",
     "shell.execute_reply": "2022-03-16T19:50:28.500169Z",
     "shell.execute_reply.started": "2022-03-16T19:34:18.190211Z"
    },
    "papermill": {
     "duration": 0.013399,
     "end_time": "2022-03-16T20:41:43.275938",
     "exception": false,
     "start_time": "2022-03-16T20:41:43.262539",
     "status": "completed"
    },
    "tags": []
   },
   "outputs": [],
   "source": []
  },
  {
   "cell_type": "markdown",
   "id": "22d0f02f",
   "metadata": {
    "papermill": {
     "duration": 0.013521,
     "end_time": "2022-03-16T20:41:43.303966",
     "exception": false,
     "start_time": "2022-03-16T20:41:43.290445",
     "status": "completed"
    },
    "tags": []
   },
   "source": [
    "## 5. Predict class names for the images within the test set."
   ]
  },
  {
   "cell_type": "code",
   "execution_count": 2,
   "id": "38ea79aa",
   "metadata": {
    "execution": {
     "iopub.execute_input": "2022-03-16T20:41:43.335591Z",
     "iopub.status.busy": "2022-03-16T20:41:43.334899Z",
     "iopub.status.idle": "2022-03-16T20:41:43.589869Z",
     "shell.execute_reply": "2022-03-16T20:41:43.588750Z",
     "shell.execute_reply.started": "2022-03-16T20:38:16.180237Z"
    },
    "papermill": {
     "duration": 0.272146,
     "end_time": "2022-03-16T20:41:43.590200",
     "exception": true,
     "start_time": "2022-03-16T20:41:43.318054",
     "status": "failed"
    },
    "tags": []
   },
   "outputs": [
    {
     "ename": "NameError",
     "evalue": "name 'model' is not defined",
     "output_type": "error",
     "traceback": [
      "\u001b[0;31m---------------------------------------------------------------------------\u001b[0m",
      "\u001b[0;31mNameError\u001b[0m                                 Traceback (most recent call last)",
      "\u001b[0;32m/tmp/ipykernel_20/974023308.py\u001b[0m in \u001b[0;36m<module>\u001b[0;34m\u001b[0m\n\u001b[1;32m     19\u001b[0m     \u001b[0mimg_array\u001b[0m \u001b[0;34m=\u001b[0m \u001b[0mtf\u001b[0m\u001b[0;34m.\u001b[0m\u001b[0mkeras\u001b[0m\u001b[0;34m.\u001b[0m\u001b[0mutils\u001b[0m\u001b[0;34m.\u001b[0m\u001b[0mimg_to_array\u001b[0m\u001b[0;34m(\u001b[0m\u001b[0mimg\u001b[0m\u001b[0;34m)\u001b[0m\u001b[0;34m\u001b[0m\u001b[0;34m\u001b[0m\u001b[0m\n\u001b[1;32m     20\u001b[0m     \u001b[0mimg_array\u001b[0m \u001b[0;34m=\u001b[0m \u001b[0mtf\u001b[0m\u001b[0;34m.\u001b[0m\u001b[0mexpand_dims\u001b[0m\u001b[0;34m(\u001b[0m\u001b[0mimg_array\u001b[0m\u001b[0;34m,\u001b[0m \u001b[0;36m0\u001b[0m\u001b[0;34m)\u001b[0m \u001b[0;31m# Create a batch\u001b[0m\u001b[0;34m\u001b[0m\u001b[0;34m\u001b[0m\u001b[0m\n\u001b[0;32m---> 21\u001b[0;31m     \u001b[0mpreds\u001b[0m \u001b[0;34m=\u001b[0m \u001b[0mmodel\u001b[0m\u001b[0;34m.\u001b[0m\u001b[0mpredict\u001b[0m\u001b[0;34m(\u001b[0m\u001b[0mimg_array\u001b[0m\u001b[0;34m)\u001b[0m\u001b[0;34m\u001b[0m\u001b[0;34m\u001b[0m\u001b[0m\n\u001b[0m\u001b[1;32m     22\u001b[0m     \u001b[0mpredictions\u001b[0m\u001b[0;34m.\u001b[0m\u001b[0mappend\u001b[0m\u001b[0;34m(\u001b[0m\u001b[0;34m[\u001b[0m\u001b[0mimage\u001b[0m\u001b[0;34m.\u001b[0m\u001b[0mstrip\u001b[0m\u001b[0;34m(\u001b[0m\u001b[0;34m)\u001b[0m\u001b[0;34m,\u001b[0m\u001b[0mnp\u001b[0m\u001b[0;34m.\u001b[0m\u001b[0margmax\u001b[0m\u001b[0;34m(\u001b[0m\u001b[0mpreds\u001b[0m\u001b[0;34m)\u001b[0m\u001b[0;34m]\u001b[0m\u001b[0;34m)\u001b[0m\u001b[0;34m\u001b[0m\u001b[0;34m\u001b[0m\u001b[0m\n\u001b[1;32m     23\u001b[0m     \u001b[0mprint\u001b[0m\u001b[0;34m(\u001b[0m\u001b[0mi\u001b[0m\u001b[0;34m,\u001b[0m \u001b[0mend\u001b[0m \u001b[0;34m=\u001b[0m \u001b[0;34m'\\r'\u001b[0m\u001b[0;34m)\u001b[0m\u001b[0;34m\u001b[0m\u001b[0;34m\u001b[0m\u001b[0m\n",
      "\u001b[0;31mNameError\u001b[0m: name 'model' is not defined"
     ]
    }
   ],
   "source": [
    "import tensorflow as tf \n",
    "import numpy as np\n",
    "\n",
    "# OPTION A\n",
    "# Here you find a snippet of code to predict one by one each image class.\n",
    "# This is very slow however it is more straight forward for you to understand.\n",
    "\n",
    "tname = '/kaggle/input/eestecchallenge/test_files.txt'\n",
    "test_names =[]\n",
    "testFiles = open(tname,'r')\n",
    "for x in testFiles:\n",
    "    test_names.append(x)\n",
    "testFiles.close()\n",
    "\n",
    "predictions = []\n",
    "for i,image in enumerate(test_names):    \n",
    "    img_path = '/kaggle/input/eestecchallenge/testset/testset/'+image.strip()\n",
    "    img = tf.keras.utils.load_img(img_path,color_mode='rgb')\n",
    "    img_array = tf.keras.utils.img_to_array(img)\n",
    "    img_array = tf.expand_dims(img_array, 0) # Create a batch\n",
    "    preds = model.predict(img_array)\n",
    "    predictions.append([image.strip(),np.argmax(preds)])\n",
    "    print(i, end = '\\r')\n",
    "\n",
    "with open('/kaggle/working/submission.csv', 'w') as myfile:    \n",
    "    myfile.write('id,category\\n')\n",
    "    for row in predictions:\n",
    "        myfile.write(row[0]+','+str(row[1])+'\\n')\n"
   ]
  },
  {
   "cell_type": "code",
   "execution_count": null,
   "id": "0917e1c7",
   "metadata": {
    "execution": {
     "iopub.execute_input": "2022-03-16T20:01:58.506996Z",
     "iopub.status.busy": "2022-03-16T20:01:58.506284Z",
     "iopub.status.idle": "2022-03-16T20:02:09.196458Z",
     "shell.execute_reply": "2022-03-16T20:02:09.195046Z",
     "shell.execute_reply.started": "2022-03-16T20:01:58.506959Z"
    },
    "papermill": {
     "duration": null,
     "end_time": null,
     "exception": null,
     "start_time": null,
     "status": "pending"
    },
    "tags": []
   },
   "outputs": [],
   "source": [
    "# OPTION B\n",
    "# Here you find a snippet of code to predict one by one each image class.\n",
    "# This is very slow however it is more straight forward for you to understand.\n",
    "predictions = []\n",
    "test_loop = np.linspace(0,len(test_names),int(len(test_names)/500)+1,dtype=int)\n",
    "\n",
    "for i in range(1,len(test_loop)):\n",
    "    batch = np.zeros((500,32,32,3))\n",
    "    for kk,j in enumerate(range(test_loop[i-1],test_loop[i])):\n",
    "        img_path = '/kaggle/input/eestecchallenge/testset/testset/'+test_names[j].strip()\n",
    "        img = tf.keras.utils.load_img(img_path,color_mode='rgb')\n",
    "        img_array = tf.keras.utils.img_to_array(img)\n",
    "        img_array = tf.expand_dims(img_array, 0) # Create a batch\n",
    "        batch[kk,:,:,:] = img_array\n",
    "    preds = model.predict(batch)\n",
    "\n",
    "    predictions = predictions + list(np.argmax(preds,axis=1))\n",
    "    print(j, end = '\\r')\n",
    "\n",
    "with open('/kaggle/working/submission.csv', 'w') as myfile:  \n",
    "    myfile.write('id,category\\n')\n",
    "    for i,row in enumerate(predictions):\n",
    "        myfile.write(test_names[i].strip()+','+str(row)+'\\n')"
   ]
  }
 ],
 "metadata": {
  "kernelspec": {
   "display_name": "Python 3 (ipykernel)",
   "language": "python",
   "name": "python3"
  },
  "language_info": {
   "codemirror_mode": {
    "name": "ipython",
    "version": 3
   },
   "file_extension": ".py",
   "mimetype": "text/x-python",
   "name": "python",
   "nbconvert_exporter": "python",
   "pygments_lexer": "ipython3",
   "version": "3.8.10"
  },
  "papermill": {
   "default_parameters": {},
   "duration": 43.687334,
   "end_time": "2022-03-16T20:41:46.306041",
   "environment_variables": {},
   "exception": true,
   "input_path": "__notebook__.ipynb",
   "output_path": "__notebook__.ipynb",
   "parameters": {},
   "start_time": "2022-03-16T20:41:02.618707",
   "version": "2.3.3"
  }
 },
 "nbformat": 4,
 "nbformat_minor": 5
}
