{
 "cells": [
  {
   "cell_type": "markdown",
   "id": "c07ec26a",
   "metadata": {
    "papermill": {
     "duration": 0.010151,
     "end_time": "2022-03-19T22:22:37.736680",
     "exception": false,
     "start_time": "2022-03-19T22:22:37.726529",
     "status": "completed"
    },
    "tags": []
   },
   "source": [
    "# EESTech Challenge - Aveiro 2022\n",
    "# KAGGLE CIFAR-10\n",
    "\n",
    "by André Clérigo, João Pedro Amaral and Pedro Lebre da Rocha | Computer Engineering - University of Aveiro \n",
    "\n",
    "## Introduction\n",
    "Using a subset of CIFAR-10 provided by EESTech, perform image classification with the best accuracy possible \n",
    "\n",
    "## Datasets Structure\n",
    "The Dataset provided has the following file structure:\n",
    "<pre>\n",
    "dataset/\n",
    "└── dataset/\n",
    "    ├── 0/\n",
    "    │   ├── *.png\n",
    "    ├── 1/\n",
    "    │   ├── *.png\n",
    "    ├── 2/\n",
    "    │   ├── *.png\n",
    "    ├── 3/\n",
    "    │   ├── *.png\n",
    "    ├── 5/\n",
    "    │   ├── *.png\n",
    "    ├── 7/\n",
    "    │   ├── *.png\n",
    "    ├── 8/\n",
    "    │   ├── *.png\n",
    "    ├── 9/\n",
    "    │   ├── *.png\n",
    "</pre>\n",
    "The Testset provided has the following file structure:\n",
    "<pre>\n",
    "testset/\n",
    "└── testset/\n",
    "    ├── *.png\n",
    "</pre>\n",
    "\n",
    "## Imports"
   ]
  },
  {
   "cell_type": "code",
   "execution_count": 1,
   "id": "31543005",
   "metadata": {
    "execution": {
     "iopub.execute_input": "2022-03-19T22:22:37.760509Z",
     "iopub.status.busy": "2022-03-19T22:22:37.759054Z",
     "iopub.status.idle": "2022-03-19T22:22:43.052820Z",
     "shell.execute_reply": "2022-03-19T22:22:43.053282Z",
     "shell.execute_reply.started": "2022-03-19T22:00:46.942366Z"
    },
    "papermill": {
     "duration": 5.307258,
     "end_time": "2022-03-19T22:22:43.053546",
     "exception": false,
     "start_time": "2022-03-19T22:22:37.746288",
     "status": "completed"
    },
    "tags": []
   },
   "outputs": [],
   "source": [
    "import os\n",
    "import tensorflow as tf\n",
    "import matplotlib.pyplot as plt\n",
    "import pathlib\n",
    "import numpy as np\n",
    "\n",
    "from tensorflow import keras\n",
    "from tensorflow.keras import layers\n",
    "from tensorflow.keras.models import Sequential\n",
    "from tensorflow.keras.layers import Conv2D\n",
    "from tensorflow.keras.layers import MaxPooling2D\n",
    "from tensorflow.keras.layers import Dense\n",
    "from tensorflow.keras.layers import Flatten\n",
    "from tensorflow.keras.layers import Dropout\n",
    "from tensorflow.keras.layers import BatchNormalization"
   ]
  },
  {
   "cell_type": "markdown",
   "id": "8cc1ca0f",
   "metadata": {
    "papermill": {
     "duration": 0.009248,
     "end_time": "2022-03-19T22:22:43.072122",
     "exception": false,
     "start_time": "2022-03-19T22:22:43.062874",
     "status": "completed"
    },
    "tags": []
   },
   "source": [
    "## Loading the training data and spiliting it into training/validation datasets"
   ]
  },
  {
   "cell_type": "code",
   "execution_count": 2,
   "id": "0fd47dd3",
   "metadata": {
    "execution": {
     "iopub.execute_input": "2022-03-19T22:22:43.096102Z",
     "iopub.status.busy": "2022-03-19T22:22:43.095536Z",
     "iopub.status.idle": "2022-03-19T22:23:03.309446Z",
     "shell.execute_reply": "2022-03-19T22:23:03.308478Z",
     "shell.execute_reply.started": "2022-03-19T22:00:46.950766Z"
    },
    "papermill": {
     "duration": 20.228584,
     "end_time": "2022-03-19T22:23:03.309610",
     "exception": false,
     "start_time": "2022-03-19T22:22:43.081026",
     "status": "completed"
    },
    "tags": []
   },
   "outputs": [
    {
     "name": "stdout",
     "output_type": "stream",
     "text": [
      "Found 40000 files belonging to 8 classes.\n",
      "Using 32000 files for training.\n"
     ]
    },
    {
     "name": "stderr",
     "output_type": "stream",
     "text": [
      "2022-03-19 22:22:54.802107: I tensorflow/stream_executor/cuda/cuda_gpu_executor.cc:937] successful NUMA node read from SysFS had negative value (-1), but there must be at least one NUMA node, so returning NUMA node zero\n",
      "2022-03-19 22:22:54.887628: I tensorflow/stream_executor/cuda/cuda_gpu_executor.cc:937] successful NUMA node read from SysFS had negative value (-1), but there must be at least one NUMA node, so returning NUMA node zero\n",
      "2022-03-19 22:22:54.888334: I tensorflow/stream_executor/cuda/cuda_gpu_executor.cc:937] successful NUMA node read from SysFS had negative value (-1), but there must be at least one NUMA node, so returning NUMA node zero\n",
      "2022-03-19 22:22:54.892387: I tensorflow/core/platform/cpu_feature_guard.cc:142] This TensorFlow binary is optimized with oneAPI Deep Neural Network Library (oneDNN) to use the following CPU instructions in performance-critical operations:  AVX2 AVX512F FMA\n",
      "To enable them in other operations, rebuild TensorFlow with the appropriate compiler flags.\n",
      "2022-03-19 22:22:54.893567: I tensorflow/stream_executor/cuda/cuda_gpu_executor.cc:937] successful NUMA node read from SysFS had negative value (-1), but there must be at least one NUMA node, so returning NUMA node zero\n",
      "2022-03-19 22:22:54.894248: I tensorflow/stream_executor/cuda/cuda_gpu_executor.cc:937] successful NUMA node read from SysFS had negative value (-1), but there must be at least one NUMA node, so returning NUMA node zero\n",
      "2022-03-19 22:22:54.894917: I tensorflow/stream_executor/cuda/cuda_gpu_executor.cc:937] successful NUMA node read from SysFS had negative value (-1), but there must be at least one NUMA node, so returning NUMA node zero\n",
      "2022-03-19 22:22:56.743421: I tensorflow/stream_executor/cuda/cuda_gpu_executor.cc:937] successful NUMA node read from SysFS had negative value (-1), but there must be at least one NUMA node, so returning NUMA node zero\n",
      "2022-03-19 22:22:56.744373: I tensorflow/stream_executor/cuda/cuda_gpu_executor.cc:937] successful NUMA node read from SysFS had negative value (-1), but there must be at least one NUMA node, so returning NUMA node zero\n",
      "2022-03-19 22:22:56.745097: I tensorflow/stream_executor/cuda/cuda_gpu_executor.cc:937] successful NUMA node read from SysFS had negative value (-1), but there must be at least one NUMA node, so returning NUMA node zero\n",
      "2022-03-19 22:22:56.745721: I tensorflow/core/common_runtime/gpu/gpu_device.cc:1510] Created device /job:localhost/replica:0/task:0/device:GPU:0 with 15403 MB memory:  -> device: 0, name: Tesla P100-PCIE-16GB, pci bus id: 0000:00:04.0, compute capability: 6.0\n"
     ]
    },
    {
     "name": "stdout",
     "output_type": "stream",
     "text": [
      "Found 40000 files belonging to 8 classes.\n",
      "Using 8000 files for validation.\n"
     ]
    }
   ],
   "source": [
    "# Getting dataset's path\n",
    "ds_path = pathlib.Path('/kaggle/input/eestecchallenge/dataset/dataset/')\n",
    "\n",
    "# Define parameters\n",
    "batch_size = 32\n",
    "img_height = 32\n",
    "img_width = 32\n",
    "\n",
    "# Configure the training dataset\n",
    "train_ds = tf.keras.utils.image_dataset_from_directory(\n",
    "    ds_path,\n",
    "    validation_split=0.20,\n",
    "    subset=\"training\",\n",
    "    seed=123,\n",
    "    image_size=(img_height, img_width),\n",
    "    batch_size=batch_size\n",
    ")\n",
    "\n",
    "# Configure the validation dataset\n",
    "val_ds = tf.keras.utils.image_dataset_from_directory(\n",
    "    ds_path,\n",
    "    validation_split=0.20,\n",
    "    subset=\"validation\",\n",
    "    seed=123,\n",
    "    image_size=(img_height, img_width),\n",
    "    batch_size=batch_size\n",
    ")"
   ]
  },
  {
   "cell_type": "markdown",
   "id": "38c55289",
   "metadata": {
    "papermill": {
     "duration": 0.010247,
     "end_time": "2022-03-19T22:23:03.331386",
     "exception": false,
     "start_time": "2022-03-19T22:23:03.321139",
     "status": "completed"
    },
    "tags": []
   },
   "source": [
    "## Model Architecture"
   ]
  },
  {
   "cell_type": "code",
   "execution_count": 3,
   "id": "c0abecaf",
   "metadata": {
    "execution": {
     "iopub.execute_input": "2022-03-19T22:23:03.365067Z",
     "iopub.status.busy": "2022-03-19T22:23:03.364204Z",
     "iopub.status.idle": "2022-03-19T22:23:03.547545Z",
     "shell.execute_reply": "2022-03-19T22:23:03.547026Z",
     "shell.execute_reply.started": "2022-03-19T22:00:54.238396Z"
    },
    "papermill": {
     "duration": 0.205965,
     "end_time": "2022-03-19T22:23:03.547661",
     "exception": false,
     "start_time": "2022-03-19T22:23:03.341696",
     "status": "completed"
    },
    "tags": []
   },
   "outputs": [],
   "source": [
    "# Get the existing classes\n",
    "class_names = train_ds.class_names\n",
    "num_classes = len(class_names)\n",
    "\n",
    "# Configure the dataset for performance\n",
    "AUTOTUNE = tf.data.AUTOTUNE\n",
    "train_ds = train_ds.cache().shuffle(1000).prefetch(buffer_size=AUTOTUNE)\n",
    "val_ds = val_ds.cache().prefetch(buffer_size=AUTOTUNE)\n",
    "\n",
    "# Create the Model\n",
    "model = Sequential()\n",
    "model.add(Conv2D(32, (3, 3), activation='relu', kernel_initializer='he_uniform', padding='same', input_shape=(img_width, img_height, 3)))\n",
    "model.add(BatchNormalization())\n",
    "model.add(Conv2D(32, (3, 3), activation='relu', kernel_initializer='he_uniform', padding='same'))\n",
    "model.add(BatchNormalization())\n",
    "model.add(MaxPooling2D((2, 2)))\n",
    "model.add(Dropout(0.2))\n",
    "model.add(Conv2D(64, (3, 3), activation='relu', kernel_initializer='he_uniform', padding='same'))\n",
    "model.add(BatchNormalization())\n",
    "model.add(Conv2D(64, (3, 3), activation='relu', kernel_initializer='he_uniform', padding='same'))\n",
    "model.add(BatchNormalization())\n",
    "model.add(MaxPooling2D((2, 2)))\n",
    "model.add(Dropout(0.3))\n",
    "model.add(Conv2D(128, (3, 3), activation='relu', kernel_initializer='he_uniform'))\n",
    "model.add(BatchNormalization())\n",
    "model.add(Conv2D(128, (3, 3), activation='relu', kernel_initializer='he_uniform'))\n",
    "model.add(BatchNormalization())\n",
    "model.add(MaxPooling2D((2, 2)))\n",
    "model.add(Dropout(0.4))\n",
    "model.add(Flatten())\n",
    "model.add(Dense(128, activation='relu', kernel_initializer='he_uniform'))\n",
    "model.add(BatchNormalization())\n",
    "model.add(Dropout(0.5))\n",
    "model.add(Dense(10, activation='softmax'))"
   ]
  },
  {
   "cell_type": "markdown",
   "id": "eebd6caa",
   "metadata": {
    "papermill": {
     "duration": 0.010303,
     "end_time": "2022-03-19T22:23:03.568663",
     "exception": false,
     "start_time": "2022-03-19T22:23:03.558360",
     "status": "completed"
    },
    "tags": []
   },
   "source": [
    "## Model compiling and training "
   ]
  },
  {
   "cell_type": "code",
   "execution_count": 4,
   "id": "01b2f66f",
   "metadata": {
    "execution": {
     "iopub.execute_input": "2022-03-19T22:23:03.599470Z",
     "iopub.status.busy": "2022-03-19T22:23:03.598668Z",
     "iopub.status.idle": "2022-03-19T22:30:53.043778Z",
     "shell.execute_reply": "2022-03-19T22:30:53.043278Z",
     "shell.execute_reply.started": "2022-03-19T22:00:54.400386Z"
    },
    "papermill": {
     "duration": 469.464836,
     "end_time": "2022-03-19T22:30:53.043987",
     "exception": false,
     "start_time": "2022-03-19T22:23:03.579151",
     "status": "completed"
    },
    "tags": []
   },
   "outputs": [
    {
     "name": "stdout",
     "output_type": "stream",
     "text": [
      "Epoch 1/50\n"
     ]
    },
    {
     "name": "stderr",
     "output_type": "stream",
     "text": [
      "/opt/conda/lib/python3.7/site-packages/keras/backend.py:4907: UserWarning: \"`sparse_categorical_crossentropy` received `from_logits=True`, but the `output` argument was produced by a sigmoid or softmax activation and thus does not represent logits. Was this intended?\"\n",
      "  '\"`sparse_categorical_crossentropy` received `from_logits=True`, but '\n",
      "2022-03-19 22:23:04.385101: I tensorflow/compiler/mlir/mlir_graph_optimization_pass.cc:185] None of the MLIR Optimization Passes are enabled (registered 2)\n",
      "2022-03-19 22:23:14.660267: I tensorflow/core/kernels/data/shuffle_dataset_op.cc:175] Filling up shuffle buffer (this may take a while): 214 of 1000\n",
      "2022-03-19 22:23:24.667597: I tensorflow/core/kernels/data/shuffle_dataset_op.cc:175] Filling up shuffle buffer (this may take a while): 430 of 1000\n",
      "2022-03-19 22:23:34.666891: I tensorflow/core/kernels/data/shuffle_dataset_op.cc:175] Filling up shuffle buffer (this may take a while): 624 of 1000\n",
      "2022-03-19 22:23:44.652558: I tensorflow/core/kernels/data/shuffle_dataset_op.cc:175] Filling up shuffle buffer (this may take a while): 824 of 1000\n",
      "2022-03-19 22:23:53.499584: I tensorflow/core/kernels/data/shuffle_dataset_op.cc:228] Shuffle buffer filled.\n",
      "2022-03-19 22:23:54.255444: I tensorflow/stream_executor/cuda/cuda_dnn.cc:369] Loaded cuDNN version 8005\n"
     ]
    },
    {
     "name": "stdout",
     "output_type": "stream",
     "text": [
      "1000/1000 [==============================] - 74s 18ms/step - loss: 1.6574 - accuracy: 0.4245 - val_loss: 1.2126 - val_accuracy: 0.5518\n",
      "Epoch 2/50\n",
      "1000/1000 [==============================] - 6s 6ms/step - loss: 1.0786 - accuracy: 0.6043 - val_loss: 1.0222 - val_accuracy: 0.6263\n",
      "Epoch 3/50\n",
      "1000/1000 [==============================] - 7s 7ms/step - loss: 0.8952 - accuracy: 0.6753 - val_loss: 0.7073 - val_accuracy: 0.7409\n",
      "Epoch 4/50\n",
      "1000/1000 [==============================] - 7s 7ms/step - loss: 0.7795 - accuracy: 0.7193 - val_loss: 0.7238 - val_accuracy: 0.7376\n",
      "Epoch 5/50\n",
      "1000/1000 [==============================] - 7s 7ms/step - loss: 0.7064 - accuracy: 0.7449 - val_loss: 0.5960 - val_accuracy: 0.7853\n",
      "Epoch 6/50\n",
      "1000/1000 [==============================] - 6s 6ms/step - loss: 0.6464 - accuracy: 0.7707 - val_loss: 0.5788 - val_accuracy: 0.7911\n",
      "Epoch 7/50\n",
      "1000/1000 [==============================] - 7s 7ms/step - loss: 0.5973 - accuracy: 0.7880 - val_loss: 0.5233 - val_accuracy: 0.8080\n",
      "Epoch 8/50\n",
      "1000/1000 [==============================] - 7s 7ms/step - loss: 0.5556 - accuracy: 0.8030 - val_loss: 0.5217 - val_accuracy: 0.8104\n",
      "Epoch 9/50\n",
      "1000/1000 [==============================] - 6s 6ms/step - loss: 0.5210 - accuracy: 0.8132 - val_loss: 0.5003 - val_accuracy: 0.8232\n",
      "Epoch 10/50\n",
      "1000/1000 [==============================] - 7s 7ms/step - loss: 0.4879 - accuracy: 0.8263 - val_loss: 0.5087 - val_accuracy: 0.8221\n",
      "Epoch 11/50\n",
      "1000/1000 [==============================] - 6s 6ms/step - loss: 0.4610 - accuracy: 0.8355 - val_loss: 0.5055 - val_accuracy: 0.8257\n",
      "Epoch 12/50\n",
      "1000/1000 [==============================] - 7s 7ms/step - loss: 0.4362 - accuracy: 0.8471 - val_loss: 0.5085 - val_accuracy: 0.8202\n",
      "Epoch 13/50\n",
      "1000/1000 [==============================] - 6s 6ms/step - loss: 0.4126 - accuracy: 0.8547 - val_loss: 0.4769 - val_accuracy: 0.8330\n",
      "Epoch 14/50\n",
      "1000/1000 [==============================] - 6s 6ms/step - loss: 0.3938 - accuracy: 0.8595 - val_loss: 0.4824 - val_accuracy: 0.8347\n",
      "Epoch 15/50\n",
      "1000/1000 [==============================] - 6s 6ms/step - loss: 0.3835 - accuracy: 0.8624 - val_loss: 0.4565 - val_accuracy: 0.8430\n",
      "Epoch 16/50\n",
      "1000/1000 [==============================] - 7s 7ms/step - loss: 0.3593 - accuracy: 0.8718 - val_loss: 0.4925 - val_accuracy: 0.8339\n",
      "Epoch 17/50\n",
      "1000/1000 [==============================] - 7s 7ms/step - loss: 0.3442 - accuracy: 0.8793 - val_loss: 0.4585 - val_accuracy: 0.8409\n",
      "Epoch 18/50\n",
      "1000/1000 [==============================] - 7s 7ms/step - loss: 0.3368 - accuracy: 0.8808 - val_loss: 0.5721 - val_accuracy: 0.8159\n",
      "Epoch 19/50\n",
      "1000/1000 [==============================] - 6s 6ms/step - loss: 0.3192 - accuracy: 0.8875 - val_loss: 0.4286 - val_accuracy: 0.8558\n",
      "Epoch 20/50\n",
      "1000/1000 [==============================] - 7s 7ms/step - loss: 0.3049 - accuracy: 0.8897 - val_loss: 0.4732 - val_accuracy: 0.8380\n",
      "Epoch 21/50\n",
      "1000/1000 [==============================] - 6s 6ms/step - loss: 0.2961 - accuracy: 0.8934 - val_loss: 0.4391 - val_accuracy: 0.8555\n",
      "Epoch 22/50\n",
      "1000/1000 [==============================] - 6s 6ms/step - loss: 0.2866 - accuracy: 0.8971 - val_loss: 0.4386 - val_accuracy: 0.8558\n",
      "Epoch 23/50\n",
      "1000/1000 [==============================] - 6s 6ms/step - loss: 0.2782 - accuracy: 0.9003 - val_loss: 0.4713 - val_accuracy: 0.8470\n",
      "Epoch 24/50\n",
      "1000/1000 [==============================] - 7s 7ms/step - loss: 0.2672 - accuracy: 0.9061 - val_loss: 0.4669 - val_accuracy: 0.8529\n",
      "Epoch 25/50\n",
      "1000/1000 [==============================] - 6s 6ms/step - loss: 0.2597 - accuracy: 0.9070 - val_loss: 0.4785 - val_accuracy: 0.8508\n",
      "Epoch 26/50\n",
      "1000/1000 [==============================] - 6s 6ms/step - loss: 0.2532 - accuracy: 0.9098 - val_loss: 0.4541 - val_accuracy: 0.8559\n",
      "Epoch 27/50\n",
      "1000/1000 [==============================] - 6s 6ms/step - loss: 0.2537 - accuracy: 0.9097 - val_loss: 0.5146 - val_accuracy: 0.8365\n",
      "Epoch 28/50\n",
      "1000/1000 [==============================] - 8s 8ms/step - loss: 0.2373 - accuracy: 0.9154 - val_loss: 0.4697 - val_accuracy: 0.8546\n",
      "Epoch 29/50\n",
      "1000/1000 [==============================] - 7s 7ms/step - loss: 0.2318 - accuracy: 0.9167 - val_loss: 0.4729 - val_accuracy: 0.8576\n",
      "Epoch 30/50\n",
      "1000/1000 [==============================] - 7s 7ms/step - loss: 0.2310 - accuracy: 0.9167 - val_loss: 0.4670 - val_accuracy: 0.8574\n",
      "Epoch 31/50\n",
      "1000/1000 [==============================] - 6s 6ms/step - loss: 0.2185 - accuracy: 0.9209 - val_loss: 0.4771 - val_accuracy: 0.8560\n",
      "Epoch 32/50\n",
      "1000/1000 [==============================] - 7s 7ms/step - loss: 0.2165 - accuracy: 0.9234 - val_loss: 0.4999 - val_accuracy: 0.8503\n",
      "Epoch 33/50\n",
      "1000/1000 [==============================] - 6s 6ms/step - loss: 0.2092 - accuracy: 0.9271 - val_loss: 0.4858 - val_accuracy: 0.8536\n",
      "Epoch 34/50\n",
      "1000/1000 [==============================] - 6s 6ms/step - loss: 0.2041 - accuracy: 0.9273 - val_loss: 0.4763 - val_accuracy: 0.8596\n",
      "Epoch 35/50\n",
      "1000/1000 [==============================] - 6s 6ms/step - loss: 0.1999 - accuracy: 0.9287 - val_loss: 0.5345 - val_accuracy: 0.8435\n",
      "Epoch 36/50\n",
      "1000/1000 [==============================] - 7s 7ms/step - loss: 0.1991 - accuracy: 0.9282 - val_loss: 0.4731 - val_accuracy: 0.8599\n",
      "Epoch 37/50\n",
      "1000/1000 [==============================] - 6s 6ms/step - loss: 0.1944 - accuracy: 0.9297 - val_loss: 0.4838 - val_accuracy: 0.8577\n",
      "Epoch 38/50\n",
      "1000/1000 [==============================] - 6s 6ms/step - loss: 0.1853 - accuracy: 0.9342 - val_loss: 0.4779 - val_accuracy: 0.8597\n",
      "Epoch 39/50\n",
      "1000/1000 [==============================] - 6s 6ms/step - loss: 0.1830 - accuracy: 0.9342 - val_loss: 0.4722 - val_accuracy: 0.8587\n",
      "Epoch 40/50\n",
      "1000/1000 [==============================] - 7s 7ms/step - loss: 0.1846 - accuracy: 0.9346 - val_loss: 0.4691 - val_accuracy: 0.8624\n",
      "Epoch 41/50\n",
      "1000/1000 [==============================] - 7s 7ms/step - loss: 0.1770 - accuracy: 0.9360 - val_loss: 0.4884 - val_accuracy: 0.8595\n",
      "Epoch 42/50\n",
      "1000/1000 [==============================] - 6s 6ms/step - loss: 0.1729 - accuracy: 0.9376 - val_loss: 0.4824 - val_accuracy: 0.8591\n",
      "Epoch 43/50\n",
      "1000/1000 [==============================] - 6s 6ms/step - loss: 0.1722 - accuracy: 0.9405 - val_loss: 0.4752 - val_accuracy: 0.8655\n",
      "Epoch 44/50\n",
      "1000/1000 [==============================] - 6s 6ms/step - loss: 0.1676 - accuracy: 0.9399 - val_loss: 0.4718 - val_accuracy: 0.8630\n",
      "Epoch 45/50\n",
      "1000/1000 [==============================] - 7s 7ms/step - loss: 0.1694 - accuracy: 0.9406 - val_loss: 0.4951 - val_accuracy: 0.8609\n",
      "Epoch 46/50\n",
      "1000/1000 [==============================] - 7s 7ms/step - loss: 0.1636 - accuracy: 0.9410 - val_loss: 0.4777 - val_accuracy: 0.8637\n",
      "Epoch 47/50\n",
      "1000/1000 [==============================] - 6s 6ms/step - loss: 0.1611 - accuracy: 0.9431 - val_loss: 0.5049 - val_accuracy: 0.8630\n",
      "Epoch 48/50\n",
      "1000/1000 [==============================] - 7s 7ms/step - loss: 0.1603 - accuracy: 0.9441 - val_loss: 0.5069 - val_accuracy: 0.8585\n",
      "Epoch 49/50\n",
      "1000/1000 [==============================] - 7s 7ms/step - loss: 0.1527 - accuracy: 0.9465 - val_loss: 0.5347 - val_accuracy: 0.8505\n",
      "Epoch 50/50\n",
      "1000/1000 [==============================] - 6s 6ms/step - loss: 0.1544 - accuracy: 0.9456 - val_loss: 0.4946 - val_accuracy: 0.8615\n"
     ]
    }
   ],
   "source": [
    "# Compile the Model\n",
    "model.compile(optimizer='adam',\n",
    "              loss=tf.keras.losses.SparseCategoricalCrossentropy(from_logits=True),\n",
    "              metrics=['accuracy'])\n",
    "\n",
    "# Train the Model\n",
    "epochs = 50\n",
    "history = model.fit(\n",
    "  train_ds,\n",
    "  validation_data=val_ds,\n",
    "  epochs=epochs\n",
    ")"
   ]
  },
  {
   "cell_type": "markdown",
   "id": "abdbf0ae",
   "metadata": {
    "papermill": {
     "duration": 1.836007,
     "end_time": "2022-03-19T22:30:56.923265",
     "exception": false,
     "start_time": "2022-03-19T22:30:55.087258",
     "status": "completed"
    },
    "tags": []
   },
   "source": [
    "## Data Visualization"
   ]
  },
  {
   "cell_type": "code",
   "execution_count": 5,
   "id": "7427a483",
   "metadata": {
    "execution": {
     "iopub.execute_input": "2022-03-19T22:31:00.535400Z",
     "iopub.status.busy": "2022-03-19T22:31:00.534520Z",
     "iopub.status.idle": "2022-03-19T22:31:00.842614Z",
     "shell.execute_reply": "2022-03-19T22:31:00.843153Z",
     "shell.execute_reply.started": "2022-03-19T22:08:23.019160Z"
    },
    "papermill": {
     "duration": 2.119762,
     "end_time": "2022-03-19T22:31:00.843340",
     "exception": false,
     "start_time": "2022-03-19T22:30:58.723578",
     "status": "completed"
    },
    "tags": []
   },
   "outputs": [
    {
     "data": {
      "image/png": "[encoded data removed]",
      "text/plain": [
       "<Figure size 576x576 with 2 Axes>"
      ]
     },
     "metadata": {
      "needs_background": "light"
     },
     "output_type": "display_data"
    }
   ],
   "source": [
    "# Visualize the training data\n",
    "acc = history.history['accuracy']\n",
    "val_acc = history.history['val_accuracy']\n",
    "\n",
    "loss = history.history['loss']\n",
    "val_loss = history.history['val_loss']\n",
    "\n",
    "epochs_range = range(epochs)\n",
    "\n",
    "plt.figure(figsize=(8, 8))\n",
    "plt.subplot(1, 2, 1)\n",
    "plt.plot(epochs_range, acc, label='Training Accuracy')\n",
    "plt.plot(epochs_range, val_acc, label='Validation Accuracy')\n",
    "plt.legend(loc='lower right')\n",
    "plt.title('Training and Validation Accuracy')\n",
    "\n",
    "plt.subplot(1, 2, 2)\n",
    "plt.plot(epochs_range, loss, label='Training Loss')\n",
    "plt.plot(epochs_range, val_loss, label='Validation Loss')\n",
    "plt.legend(loc='upper right')\n",
    "plt.title('Training and Validation Loss')\n",
    "plt.show()"
   ]
  },
  {
   "cell_type": "markdown",
   "id": "42a39bc6",
   "metadata": {
    "papermill": {
     "duration": 1.781062,
     "end_time": "2022-03-19T22:31:04.880157",
     "exception": false,
     "start_time": "2022-03-19T22:31:03.099095",
     "status": "completed"
    },
    "tags": []
   },
   "source": [
    "## Predict the testset images"
   ]
  },
  {
   "cell_type": "code",
   "execution_count": 6,
   "id": "ba834330",
   "metadata": {
    "execution": {
     "iopub.execute_input": "2022-03-19T22:31:08.776504Z",
     "iopub.status.busy": "2022-03-19T22:31:08.775923Z",
     "iopub.status.idle": "2022-03-19T22:31:40.004809Z",
     "shell.execute_reply": "2022-03-19T22:31:40.004299Z",
     "shell.execute_reply.started": "2022-03-19T22:08:23.725178Z"
    },
    "papermill": {
     "duration": 33.029027,
     "end_time": "2022-03-19T22:31:40.004970",
     "exception": false,
     "start_time": "2022-03-19T22:31:06.975943",
     "status": "completed"
    },
    "tags": []
   },
   "outputs": [],
   "source": [
    "test_names = []\n",
    "predictions = []\n",
    "testset_path = '/kaggle/input/eestecchallenge/testset/testset/'\n",
    "\n",
    "test_files = open('/kaggle/input/eestecchallenge/test_files.txt', 'r')\n",
    "for x in test_files:\n",
    "    test_names.append(x)\n",
    "test_files.close()\n",
    "\n",
    "test_loop = np.linspace(0, len(test_names), int(len(test_names)/500)+1, dtype=int)\n",
    "\n",
    "# Iterate through all the images in the testset\n",
    "for i in range(1,len(test_loop)):\n",
    "    batch = np.zeros((500,32,32,3))\n",
    "    for kk,j in enumerate(range(test_loop[i-1], test_loop[i])):\n",
    "        img_path = testset_path + test_names[j].strip()\n",
    "        img = tf.keras.utils.load_img(img_path,color_mode='rgb')\n",
    "        img_array = tf.keras.utils.img_to_array(img)\n",
    "        img_array = tf.expand_dims(img_array, 0) # Create a batch\n",
    "        batch[kk,:,:,:] = img_array\n",
    "    preds = model.predict(batch)\n",
    "\n",
    "    predictions = predictions + list(np.argmax(preds, axis=1))\n",
    "\n",
    "# Save the predictions in the correct format\n",
    "with open('/kaggle/working/submission.csv', 'w') as f:  \n",
    "    f.write('id,category\\n')\n",
    "    for i,row in enumerate(predictions):\n",
    "        f.write(test_names[i].strip()+','+str(row)+'\\n')"
   ]
  }
 ],
 "metadata": {
  "kernelspec": {
   "display_name": "Python 3 (ipykernel)",
   "language": "python",
   "name": "python3"
  },
  "language_info": {
   "codemirror_mode": {
    "name": "ipython",
    "version": 3
   },
   "file_extension": ".py",
   "mimetype": "text/x-python",
   "name": "python",
   "nbconvert_exporter": "python",
   "pygments_lexer": "ipython3",
   "version": "3.8.10"
  },
  "papermill": {
   "default_parameters": {},
   "duration": 555.884726,
   "end_time": "2022-03-19T22:31:45.490208",
   "environment_variables": {},
   "exception": null,
   "input_path": "__notebook__.ipynb",
   "output_path": "__notebook__.ipynb",
   "parameters": {},
   "start_time": "2022-03-19T22:22:29.605482",
   "version": "2.3.3"
  }
 },
 "nbformat": 4,
 "nbformat_minor": 5
}
